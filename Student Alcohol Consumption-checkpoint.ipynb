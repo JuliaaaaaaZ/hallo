{
 "cells": [
  {
   "cell_type": "markdown",
   "id": "ed8809f9",
   "metadata": {},
   "source": [
    "# Startpagina"
   ]
  },
  {
   "cell_type": "markdown",
   "id": "7952764b",
   "metadata": {},
   "source": [
    "## Library inladen"
   ]
  },
  {
   "cell_type": "code",
   "execution_count": 5,
   "id": "1457d975",
   "metadata": {},
   "outputs": [],
   "source": [
    "import streamlit as st"
   ]
  },
  {
   "cell_type": "markdown",
   "id": "465b5051",
   "metadata": {},
   "source": [
    "## Titel"
   ]
  },
  {
   "cell_type": "code",
   "execution_count": 6,
   "id": "ebac201d",
   "metadata": {},
   "outputs": [
    {
     "data": {
      "text/plain": [
       "DeltaGenerator(_root_container=0, _provided_cursor=None, _parent=None, _block_type=None, _form_data=None)"
      ]
     },
     "execution_count": 6,
     "metadata": {},
     "output_type": "execute_result"
    }
   ],
   "source": [
    "st.title(\"Student Alcohol Consumption\")  # https://docs.streamlit.io/library/api-reference/text/st.title"
   ]
  },
  {
   "cell_type": "markdown",
   "id": "dad82209",
   "metadata": {},
   "source": [
    "## Introductie"
   ]
  },
  {
   "cell_type": "code",
   "execution_count": 7,
   "id": "ce9e6700",
   "metadata": {},
   "outputs": [
    {
     "data": {
      "text/plain": [
       "DeltaGenerator(_root_container=0, _provided_cursor=None, _parent=None, _block_type=None, _form_data=None)"
      ]
     },
     "execution_count": 7,
     "metadata": {},
     "output_type": "execute_result"
    }
   ],
   "source": [
    "body = \"In dit blog worden de twee datasets omtrent Student Alcohol Consumption geanalyseerd. Dit is gedaan door middel van berekeningen en visualisaties tussen mogelijke verbanden. De twee datasets zijn Math Student Alcohol Consumption en Portugese Student Alcohol Consumption. Dit blog is gemaakt in Python, en er is gebruik gemaakt van verschillende libraries binnen dit programma. De benoemde datasets komen van Kaggle, hieronder is de link naar de datasets te vinden. Dit blog heeft naast deze pagina, twee pagina’s in de sidebar. In de eerste pagina wordt gekeken naar de datasets in het algemeen, er wordt een analyse gemaakt van de datasets en de belangrijke variabelen binnen deze datasets, dit valt onder het stuk dataverkenning. De tweede pagina bestaat voornamelijk uit visualisaties van mogelijke verbanden, de analyses worden uitgebreid, en er wordt gekeken of er conclusies getrokken kunnen worden tussen verbanden. Dit blog is gemaakt door 4 studenten van de HVA voor de minor Data Science.\"\n",
    "st.markdown(body, unsafe_allow_html=False)\n",
    "# https://docs.streamlit.io/library/api-reference/text/st.markdown"
   ]
  }
 ],
 "metadata": {
  "kernelspec": {
   "display_name": "Python 3 (ipykernel)",
   "language": "python",
   "name": "python3"
  },
  "language_info": {
   "codemirror_mode": {
    "name": "ipython",
    "version": 3
   },
   "file_extension": ".py",
   "mimetype": "text/x-python",
   "name": "python",
   "nbconvert_exporter": "python",
   "pygments_lexer": "ipython3",
   "version": "3.9.12"
  }
 },
 "nbformat": 4,
 "nbformat_minor": 5
}
